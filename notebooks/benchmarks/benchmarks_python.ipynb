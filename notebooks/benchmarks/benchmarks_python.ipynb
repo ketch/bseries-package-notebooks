{
 "cells": [
  {
   "cell_type": "code",
   "execution_count": null,
   "metadata": {},
   "outputs": [],
   "source": [
    "# load packages\n",
    "import pybs\n",
    "from pybs.rungekutta import methods as rk_methods\n",
    "\n",
    "## set up benchmark parameters\n",
    "midpoint_method = rk_methods.RKmidpoint\n",
    "up_to_order = 9\n",
    "number_of_terms = pybs.unordered_tree.number_of_trees_up_to_order(up_to_order+1)\n",
    "\n",
    "from itertools import islice\n",
    "def first_values(f, n):\n",
    "  return (f(tree) for tree in islice(pybs.unordered_tree.tree_generator(), 0, n))\n"
   ]
  },
  {
   "cell_type": "code",
   "execution_count": null,
   "metadata": {},
   "outputs": [],
   "source": [
    "# print result for comparison with BSeries.jl\n",
    "midpoint_series = midpoint_method.phi()\n",
    "series = pybs.series.modified_equation(midpoint_series)\n",
    "result = sum(first_values(series, number_of_terms))\n",
    "print(result)"
   ]
  },
  {
   "cell_type": "code",
   "execution_count": null,
   "metadata": {},
   "outputs": [],
   "source": [
    "%%timeit\n",
    "# perform benchmark computation and display the result\n",
    "midpoint_series = midpoint_method.phi()\n",
    "series = pybs.series.modified_equation(midpoint_series)\n",
    "result = sum(first_values(series, number_of_terms))"
   ]
  }
 ],
 "metadata": {
  "kernelspec": {
   "display_name": "Python 3",
   "language": "python",
   "name": "python3"
  },
  "language_info": {
   "codemirror_mode": {
    "name": "ipython",
    "version": 3
   },
   "file_extension": ".py",
   "mimetype": "text/x-python",
   "name": "python",
   "nbconvert_exporter": "python",
   "pygments_lexer": "ipython3",
   "version": "3.8.10"
  }
 },
 "nbformat": 4,
 "nbformat_minor": 4
}
