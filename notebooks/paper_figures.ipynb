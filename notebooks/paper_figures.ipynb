{
 "cells": [
  {
   "cell_type": "markdown",
   "metadata": {},
   "source": [
    "This Jupyter notebook is written to produce some cmputations\n",
    "shown in the paper and generate the plots. It is written using\n",
    "Julia v1.6."
   ]
  },
  {
   "cell_type": "markdown",
   "metadata": {},
   "source": [
    "# Setup packages"
   ]
  },
  {
   "cell_type": "code",
   "execution_count": null,
   "metadata": {},
   "outputs": [],
   "source": [
    "include(\"setup.jl\")"
   ]
  },
  {
   "cell_type": "markdown",
   "metadata": {},
   "source": [
    "# RK22 series examples"
   ]
  },
  {
   "cell_type": "markdown",
   "metadata": {},
   "source": [
    "This section of code reproduces the results in Sections 2.1.1 and 2.3.1 of the paper."
   ]
  },
  {
   "cell_type": "code",
   "execution_count": null,
   "metadata": {},
   "outputs": [],
   "source": [
    "α = sp.symbols(\"α\", real=true)\n",
    "μ = sp.symbols(\"μ\", real=true)\n",
    "A = [0 0; 1/(2*α) 0]; b = [1-α, α]; c = [0, 1/(2*α)]\n",
    "A2 = [0 0; 1/(2*μ) 0]; b2 = [1-μ, μ]; c2 = [0, 1/(2*μ)]\n",
    "\n",
    "coeffs = bseries(A,b,c,3)\n",
    "coeffs2 = bseries(A2,b2,c2,3)\n",
    "\n",
    "latexify(coeffs, cdot=false)"
   ]
  },
  {
   "cell_type": "code",
   "execution_count": null,
   "metadata": {},
   "outputs": [],
   "source": [
    "comp = compose(coeffs,coeffs2,normalize_stepsize=true)\n",
    "latexify(comp, cdot=false)"
   ]
  },
  {
   "cell_type": "code",
   "execution_count": null,
   "metadata": {},
   "outputs": [],
   "source": [
    "println(latexify(comp, cdot=false))"
   ]
  },
  {
   "cell_type": "markdown",
   "metadata": {},
   "source": [
    "# Modified equations (Lotka-Volterra)"
   ]
  },
  {
   "cell_type": "markdown",
   "metadata": {},
   "source": [
    "This reproduces the example in Section 2.4.2."
   ]
  },
  {
   "cell_type": "code",
   "execution_count": null,
   "metadata": {},
   "outputs": [],
   "source": [
    "function f(du, u, params, t)\n",
    "  p, q = u\n",
    "  dp = (2 - q) * p\n",
    "  dq = (p - 1) * q\n",
    "  du[1] = dp; du[2] = dq\n",
    "  return nothing\n",
    "end\n",
    "\n",
    "u0 = [1.5, 2.25]\n",
    "tspan = (0.0, 15.0)\n",
    "ode = ODEProblem(f, u0, tspan)\n",
    "\n",
    "dt = 0.1\n",
    "sol_euler = solve(ode, Euler(), dt=dt)\n",
    "sol_ref = solve(ode, Tsit5(),saveat=0:0.1:15)"
   ]
  },
  {
   "cell_type": "code",
   "execution_count": null,
   "metadata": {},
   "outputs": [],
   "source": [
    "plt.rc(\"lines\", linewidth=2.5, markersize=5, markeredgewidth=2.5)\n",
    "plt.rc(\"legend\", loc=\"best\", fontsize=\"small\", fancybox=true, framealpha=1.0)"
   ]
  },
  {
   "cell_type": "code",
   "execution_count": null,
   "metadata": {},
   "outputs": [],
   "source": [
    "u = sol_ref.u\n",
    "plt.plot(getindex.(u,2),getindex.(u,1),color=\"k\")\n",
    "plt.scatter(last.(sol_euler.u),first.(sol_euler.u),color=\"#56B4E9\")\n",
    "plt.legend([\"Reference solution\",L\"Explicit Euler, $\\Delta t = 0.1$\"]);\n",
    "plt.xlabel(L\"$q$\"); plt.ylabel(L\"$p$\");\n",
    "#plt.savefig(\"test.pdf\")"
   ]
  },
  {
   "cell_type": "code",
   "execution_count": null,
   "metadata": {},
   "outputs": [],
   "source": [
    "function solve_modified_equation(ode, truncation_orders, dt)\n",
    "  # Explicit Euler method\n",
    "  A = @SArray [0//1;]\n",
    "  b = @SArray [1//1]\n",
    "  c = @SArray [0//1]\n",
    "\n",
    "  # Setup of symbolic variables\n",
    "  @variables dt_sym\n",
    "  u_sym = @variables p q\n",
    "  f_sym = similar(u_sym); f(f_sym, u_sym, nothing, nothing)\n",
    "\n",
    "  sol_euler = solve(ode, Euler(), dt=dt)\n",
    "\n",
    "  plt.scatter(last.(sol_euler.u), first.(sol_euler.u),\n",
    "              label=\"Explicit Euler, dt = $dt\", color=\"k\")\n",
    "\n",
    "  for truncation_order in truncation_orders\n",
    "    series = modified_equation(f_sym, u_sym, dt_sym, A, b, c, truncation_order)\n",
    "    series = Symbolics.substitute.(series, dt_sym => dt)\n",
    "    modified_f, _ = build_function(series, u_sym, expression=Val(false))\n",
    "    modified_ode = ODEProblem((u, params, t) -> modified_f(u), ode.u0, tspan)\n",
    "    modified_sol = solve(modified_ode, Tsit5(), abstol=1.0e-6, reltol=1.0e-6)\n",
    "    fig = plt.plot(last.(modified_sol.u), first.(modified_sol.u),\n",
    "                    label=\"Modified ODE, order $(truncation_order-1)\")\n",
    "  end\n",
    "  plt.legend()\n",
    "  plt.xlabel(L\"$q$\"); plt.ylabel(L\"$p$\");\n",
    "end\n",
    "\n",
    "fig = solve_modified_equation(ode, 2, dt)\n",
    "plt.savefig(\"../figures/LV1.pdf\",bbox_inches=\"tight\")"
   ]
  },
  {
   "cell_type": "code",
   "execution_count": null,
   "metadata": {},
   "outputs": [],
   "source": [
    "fig = solve_modified_equation(ode, 2:3, 0.11)\n",
    "plt.xlim(0,8)\n",
    "plt.savefig(\"../figures/LV2.pdf\",bbox_inches=\"tight\")"
   ]
  },
  {
   "cell_type": "code",
   "execution_count": null,
   "metadata": {},
   "outputs": [],
   "source": [
    "fig = solve_modified_equation(ode, 2:4, 0.12)\n",
    "plt.xlim(0,8)\n",
    "plt.savefig(\"../figures/LV3.pdf\",bbox_inches=\"tight\")"
   ]
  },
  {
   "cell_type": "code",
   "execution_count": null,
   "metadata": {},
   "outputs": [],
   "source": [
    "u0 = [1., 2.01]\n",
    "tspan = (0.0, 66.4)\n",
    "ode = ODEProblem(f, u0, tspan)\n",
    "\n",
    "dt = 0.1\n",
    "sol_euler = solve(ode, Euler(), dt=dt)\n",
    "sol_ref = solve(ode, Tsit5())\n",
    "\n",
    "# Explicit Euler method\n",
    "A = @SArray [0//1;]\n",
    "b = @SArray [1//1]\n",
    "c = @SArray [0//1]\n",
    "\n",
    "# Setup of symbolic variables\n",
    "@variables dt_sym\n",
    "u_sym = @variables p q\n",
    "f_sym = similar(u_sym); f(f_sym, u_sym, nothing, nothing)\n",
    "\n",
    "sol_euler = solve(ode, Euler(), dt=dt)\n",
    "\n",
    "plt.scatter(last.(sol_euler.u), first.(sol_euler.u), label=\"Explicit Euler, dt = $dt\", color=\"k\")\n",
    "\n",
    "for truncation_order in 2:6\n",
    "    series = modified_equation(f_sym, u_sym, dt_sym, A, b, c, truncation_order)\n",
    "    series = Symbolics.substitute.(series, dt_sym => dt)\n",
    "    modified_f, _ = build_function(series, u_sym, expression=Val(false))\n",
    "    modified_ode = ODEProblem((u, params, t) -> modified_f(u), ode.u0, tspan)\n",
    "    modified_sol = solve(modified_ode, Tsit5(), abstol=1.0e-6, reltol=1.0e-6)\n",
    "    plt.plot(last.(modified_sol.u), first.(modified_sol.u), label=\"Modified ODE, order $(truncation_order-1)\",alpha=0.8)\n",
    "end\n",
    "plt.legend()\n",
    "plt.xlabel(L\"$q$\"); plt.ylabel(L\"$p$\");\n",
    "plt.savefig(\"../figures/LV4.pdf\",bbox_inches=\"tight\")"
   ]
  },
  {
   "cell_type": "markdown",
   "metadata": {},
   "source": [
    "# Modifying integrators (Lotka-Volterra again)"
   ]
  },
  {
   "cell_type": "markdown",
   "metadata": {},
   "source": [
    "This reproduces the example in Section 2.5."
   ]
  },
  {
   "cell_type": "code",
   "execution_count": null,
   "metadata": {},
   "outputs": [],
   "source": [
    "function f(du, u, params, t)\n",
    "  p, q = u\n",
    "  dp = (2 - q) * p\n",
    "  dq = (p - 1) * q\n",
    "  du[1] = dp; du[2] = dq\n",
    "  return nothing\n",
    "end\n",
    "\n",
    "u0 = [1.5, 2.25]\n",
    "tspan = (0.0, 15.0)\n",
    "ode = ODEProblem(f, u0, tspan)\n",
    "\n",
    "dt = 0.35\n",
    "sol_euler = solve(ode, Euler(), dt=dt)\n",
    "sol_ref = solve(ode, Tsit5(),saveat=0:0.1:15)"
   ]
  },
  {
   "cell_type": "code",
   "execution_count": null,
   "metadata": {},
   "outputs": [],
   "source": [
    "plt.plot(last.(sol_ref.u), first.(sol_ref.u), label=\"Reference solution\", color=\"k\")\n",
    "plt.scatter(last.(sol_euler.u), first.(sol_euler.u),\n",
    "             label=\"Explicit Euler, dt = $dt\")\n",
    "plt.xlim(0.0, 4.0); plt.ylim(0.0, 2.5)\n",
    "plt.legend()\n",
    "plt.xlabel(L\"$q$\"); plt.ylabel(L\"$p$\");\n",
    "plt.savefig(\"../figures/MI_LV1.pdf\",bbox_inches=\"tight\")"
   ]
  },
  {
   "cell_type": "code",
   "execution_count": null,
   "metadata": {},
   "outputs": [],
   "source": [
    "# Explicit Euler method\n",
    "A = @SArray [0//1;]\n",
    "b = @SArray [1//1]\n",
    "c = @SArray [0//1]\n",
    "\n",
    "# Setup of symbolic variables\n",
    "@variables dt_sym\n",
    "u_sym = @variables p q\n",
    "f_sym = similar(u_sym); f(f_sym, u_sym, nothing, nothing)\n",
    "\n",
    "for truncation_order in 2:4\n",
    "  series = modifying_integrator(f_sym, u_sym, dt_sym, A, b, c, truncation_order)\n",
    "  series = Symbolics.substitute.(series, dt_sym => dt)\n",
    "  modified_f, _ = build_function(series, u_sym, expression=Val(false))\n",
    "  modified_ode = ODEProblem((u, params, t) -> modified_f(u), ode.u0, tspan)\n",
    "  modified_sol_euler = solve(modified_ode, Euler(), dt=dt)\n",
    "  plt.plot(last.(modified_sol_euler.u), first.(modified_sol_euler.u),\n",
    "        label=\"Euler, modified ODE order $(truncation_order-1)\")\n",
    "end\n",
    "plt.xlim(0.0, 4.0), plt.ylim(0.0, 2.5)\n",
    "plt.legend()\n",
    "plt.xlabel(L\"$q$\"); plt.ylabel(L\"$p$\");\n",
    "plt.savefig(\"../figures/MI_LV2.pdf\",bbox_inches=\"tight\")"
   ]
  },
  {
   "cell_type": "markdown",
   "metadata": {},
   "source": [
    "# Modifying integrator for the special RK method and ODE pair\n",
    "\n",
    "This reproduces the figures in Section 2.6.2."
   ]
  },
  {
   "cell_type": "code",
   "execution_count": null,
   "metadata": {},
   "outputs": [],
   "source": [
    "# Baseline ODE\n",
    "function f_baseline(du, u, params, t)\n",
    "    u1, u2 = u\n",
    "    norm2 = u1^2 + u2^2\n",
    "    factor = 1 / norm2\n",
    "    du[1] = -u2 * factor\n",
    "    du[2] =  u1 * factor\n",
    "    return nothing\n",
    "end\n",
    "\n",
    "# Modifying integrator equation\n",
    "function f_modified(du, u, params, t)\n",
    "    u1, u2 = u\n",
    "    norm2 = u1^2 + u2^2\n",
    "    z = h() / norm2\n",
    "    g6 = 1 + z^2 / 12 + z^4 / 20 + 127 * z^6 / 2016\n",
    "    factor_f = g6 / norm2\n",
    "    factor_u = h()^5 / (48 * norm2^6) + 31 * h()^7 / (640 * norm2^8)\n",
    "    du[1] = -u2 * factor_f + u1 * factor_u\n",
    "    du[2] =  u1 * factor_f + u2 * factor_u\n",
    "    return nothing\n",
    "end\n",
    "\n",
    "# Analytical solution\n",
    "u_ana(t) = [cos(t), sin(t)]\n",
    "\n",
    "energy(u) = sum(abs2, u)\n",
    "error_l2(u, t) = sqrt(sum(abs2, u - u_ana(t)))\n",
    "\n",
    "tspan = (0.0, 200.0)\n",
    "ode_baseline = ODEProblem(f_baseline, u_ana(0.0), tspan)\n",
    "ode_modified = ODEProblem(f_modified, u_ana(0.0), tspan)\n",
    "\n",
    "# Step size\n",
    "h() = 0.6\n",
    "sol_baseline = solve(ode_baseline, Midpoint(), adaptive=false, dt=h())\n",
    "sol_modified = solve(ode_modified, Midpoint(), adaptive=false, dt=h())\n",
    "\n",
    "plt.close(\"all\")\n",
    "plt.plot(sol_baseline.t, error_l2.(sol_baseline.u, sol_baseline.t),\n",
    "         label=\"Baseline\")\n",
    "plt.plot(sol_modified.t, error_l2.(sol_modified.u, sol_modified.t),\n",
    "         label=\"Modified\")\n",
    "plt.xscale(\"log\")\n",
    "plt.yscale(\"log\")\n",
    "plt.legend()\n",
    "plt.xlabel(\"Time \\$t\\$\"); plt.ylabel(\"Error\");\n",
    "plt.savefig(\"../figures/nonlinear_osc_mod_int_h06_error.pdf\",\n",
    "    bbox_inches=\"tight\")\n",
    "\n",
    "plt.figure()\n",
    "plt.plot(sol_baseline.t, energy.(sol_baseline.u),\n",
    "         label=\"Baseline\")\n",
    "plt.plot(sol_modified.t, energy.(sol_modified.u),\n",
    "         label=\"Modified\")\n",
    "plt.xscale(\"log\")\n",
    "# plt.yscale(\"log\")\n",
    "plt.legend()\n",
    "plt.xlabel(\"Time \\$t\\$\"); plt.ylabel(\"Energy \\$\\\\|\\\\!\\\\|y\\\\|\\\\!\\\\|^2\\$\");\n",
    "plt.savefig(\"../figures/nonlinear_osc_mod_int_h06_energy.pdf\",\n",
    "    bbox_inches=\"tight\")"
   ]
  },
  {
   "cell_type": "code",
   "execution_count": null,
   "metadata": {},
   "outputs": [],
   "source": [
    "tspan = (0.0, 1000.0)\n",
    "ode_baseline = ODEProblem(f_baseline, u_ana(0.0), tspan)\n",
    "ode_modified = ODEProblem(f_modified, u_ana(0.0), tspan)\n",
    "\n",
    "# Step size\n",
    "h() = 0.3\n",
    "sol_baseline = solve(ode_baseline, Midpoint(), adaptive=false, dt=h())\n",
    "sol_modified = solve(ode_modified, Midpoint(), adaptive=false, dt=h())\n",
    "\n",
    "plt.close(\"all\")\n",
    "plt.plot(sol_baseline.t, error_l2.(sol_baseline.u, sol_baseline.t),\n",
    "         label=\"Baseline\")\n",
    "plt.plot(sol_modified.t, error_l2.(sol_modified.u, sol_modified.t),\n",
    "         label=\"Modified\")\n",
    "plt.xscale(\"log\")\n",
    "plt.yscale(\"log\")\n",
    "plt.legend()\n",
    "plt.xlabel(\"Time \\$t\\$\"); plt.ylabel(\"Error\");\n",
    "plt.savefig(\"../figures/nonlinear_osc_mod_int_h03_error.pdf\",\n",
    "    bbox_inches=\"tight\")\n",
    "\n",
    "plt.figure()\n",
    "plt.plot(sol_baseline.t, energy.(sol_baseline.u),\n",
    "         label=\"Baseline\")\n",
    "plt.plot(sol_modified.t, energy.(sol_modified.u),\n",
    "         label=\"Modified\")\n",
    "plt.xscale(\"log\")\n",
    "# plt.yscale(\"log\")\n",
    "plt.legend()\n",
    "plt.xlabel(\"Time \\$t\\$\"); plt.ylabel(\"Energy \\$\\\\|\\\\!\\\\|y\\\\|\\\\!\\\\|^2\\$\");\n",
    "plt.savefig(\"../figures/nonlinear_osc_mod_int_h03_energy.pdf\",\n",
    "    bbox_inches=\"tight\")"
   ]
  }
 ],
 "metadata": {
  "kernelspec": {
   "display_name": "Julia 1.6.7",
   "language": "julia",
   "name": "julia-1.6"
  },
  "language_info": {
   "file_extension": ".jl",
   "mimetype": "application/julia",
   "name": "julia",
   "version": "1.6.7"
  },
  "toc": {
   "base_numbering": 1,
   "nav_menu": {},
   "number_sections": true,
   "sideBar": true,
   "skip_h1_title": false,
   "title_cell": "Table of Contents",
   "title_sidebar": "Contents",
   "toc_cell": false,
   "toc_position": {},
   "toc_section_display": true,
   "toc_window_display": false
  }
 },
 "nbformat": 4,
 "nbformat_minor": 5
}
